{
 "cells": [
  {
   "cell_type": "markdown",
   "id": "8a01f17c-b230-4770-9557-23fe828fb7fc",
   "metadata": {},
   "source": [
    "# 1st GenAI Project\n",
    "\n",
    "This 1st project is a result of practive problems from Udemy course: LLM Engineering by Ed Donner\n",
    "\n",
    "I am building a Summarization use case using OpenAI API\n",
    "\n",
    "The use case being: Ask GPT to summarize a Resume from a pdf document\n"
   ]
  },
  {
   "cell_type": "code",
   "execution_count": 1,
   "id": "136331a7-a92b-4350-a453-80160e6eb45d",
   "metadata": {},
   "outputs": [],
   "source": [
    "# imports\n",
    "\n",
    "import os\n",
    "import requests\n",
    "from dotenv import load_dotenv\n",
    "from openai import OpenAI\n",
    "import PyPDF2\n"
   ]
  },
  {
   "cell_type": "code",
   "execution_count": 2,
   "id": "9570966b-1943-4bc8-96bb-643ddf16f4cd",
   "metadata": {},
   "outputs": [
    {
     "name": "stdout",
     "output_type": "stream",
     "text": [
      "API key found and looks good so far!\n"
     ]
    }
   ],
   "source": [
    "# Load environment variables in a file called .env\n",
    "\n",
    "load_dotenv()\n",
    "api_key = os.getenv('OPENAI_API_KEY')\n",
    "\n",
    "# Check the key\n",
    "\n",
    "if not api_key:\n",
    "    print(\"No API key was found - please head over to the troubleshooting notebook in this folder to identify & fix!\")\n",
    "elif not api_key.startswith(\"sk-proj-\"):\n",
    "    print(\"An API key was found, but it doesn't start sk-proj-; please check you're using the right key - see troubleshooting notebook\")\n",
    "elif api_key.strip() != api_key:\n",
    "    print(\"An API key was found, but it looks like it might have space or tab characters at the start or end - please remove them - see troubleshooting notebook\")\n",
    "else:\n",
    "    print(\"API key found and looks good so far!\")\n"
   ]
  },
  {
   "cell_type": "markdown",
   "id": "bfb3065e-ac05-40d1-84c9-a15a6021b173",
   "metadata": {},
   "source": [
    "### Step 1: Create your prompts"
   ]
  },
  {
   "cell_type": "markdown",
   "id": "be74c2c3-c8d1-4cc0-80d3-8fc5ab630377",
   "metadata": {},
   "source": [
    "* System Prompts: tell the LLM what task they are performing and what tone they should be using\n",
    "\n",
    "* User Prompts: is the conversation starter that LLM should respond to\n"
   ]
  },
  {
   "cell_type": "code",
   "execution_count": 5,
   "id": "18ca8c6b-0af8-4567-a8af-2c243e1efec1",
   "metadata": {},
   "outputs": [
    {
     "name": "stdout",
     "output_type": "stream",
     "text": [
      "PDF converted to text successfully\n"
     ]
    }
   ],
   "source": [
    "# since our user prompt is related to reading text from pdf files and then summarizing it, \n",
    "# we first build a function to convert pdf file to text file\n",
    "\n",
    "# Took this function from GeeksForGeeks\n",
    "def pdf_to_text(pdf_path, txt_path):\n",
    "    with open(pdf_path, 'rb') as pdf_file:\n",
    "        pdf_reader = PyPDF2.PdfReader(pdf_file)\n",
    "        text = ''\n",
    "        for page_num in range(len(pdf_reader.pages)):\n",
    "            page = pdf_reader.pages[page_num]\n",
    "            text += page.extract_text()\n",
    "    with open(txt_path, 'w', encoding='utf-8') as txt_file:\n",
    "        txt_file.write(text)\n",
    "\n",
    "pdf_path = \"PRASANJIT MAITY RESUME.pdf\"\n",
    "txt_path = \"resume2.txt\"\n",
    "pdf_to_text(pdf_path, txt_path)\n",
    "print(\"PDF converted to text successfully\")"
   ]
  },
  {
   "cell_type": "code",
   "execution_count": 6,
   "id": "e10af72e-b0f9-4fbc-aecd-12a33d6ae855",
   "metadata": {},
   "outputs": [],
   "source": [
    "system_prompt = \"You are an HR assistant that analyzes the contents of a resume and provides a short summary in not more than 300 words, \\\n",
    "emphasize the summary on candidates technical expertise for a data scientist role at a senior position who is expected to handle a team of 3-4 junior data scientists, \\\n",
    "ignore any special characters or indentation that might be related to formating of the resume document. Respond in markdown.\"\n",
    "\n",
    "pdf_path = \"PRASANJIT MAITY RESUME.pdf\"\n",
    "txt_path = \"resume2.txt\"\n",
    "pdf_to_text(pdf_path, txt_path)\n",
    "\n",
    "with open(\"resume2.txt\", \"r\") as file:\n",
    "    user_prompt = file.read().rstrip()\n",
    "    "
   ]
  },
  {
   "cell_type": "markdown",
   "id": "a2af7a84-1670-488e-9997-abd2b8f30701",
   "metadata": {},
   "source": [
    "### Step 2: Make the messages list\n"
   ]
  },
  {
   "cell_type": "code",
   "execution_count": 7,
   "id": "af0c8435-9809-44ce-8874-7f87848665d2",
   "metadata": {},
   "outputs": [],
   "source": [
    "# The API from OpenAI expects to receive messages in a particular structure. Many of the other APIs share this structure.\n",
    "\n",
    "messages = [\n",
    "    {'role':'system', 'content':system_prompt},\n",
    "    {'role':'user', 'content':user_prompt}\n",
    "] "
   ]
  },
  {
   "cell_type": "markdown",
   "id": "cc2dd4cf-94d0-4295-847d-7e74fee36dd3",
   "metadata": {},
   "source": [
    "### Step 3: Call OpenAI\n"
   ]
  },
  {
   "cell_type": "code",
   "execution_count": 8,
   "id": "25fbe7b5-cc20-43ab-b345-8c5675ceb057",
   "metadata": {},
   "outputs": [],
   "source": [
    "openai = OpenAI()\n",
    "\n",
    "response = openai.chat.completions.create(\n",
    "    model = 'gpt-4o-mini',\n",
    "    messages = messages\n",
    ")\n"
   ]
  },
  {
   "cell_type": "markdown",
   "id": "1b270a90-f8db-4999-af83-a424539538f6",
   "metadata": {},
   "source": [
    "### Step 4: print the result\n"
   ]
  },
  {
   "cell_type": "code",
   "execution_count": 9,
   "id": "7f7d77e4-073c-4443-92e9-7e6ea379811a",
   "metadata": {},
   "outputs": [
    {
     "name": "stdout",
     "output_type": "stream",
     "text": [
      "**Candidate Summary: Prasanjit Maity**\n",
      "\n",
      "Prasanjit Maity is an accomplished data science professional with nearly 17 years of extensive experience in data analysis, predictive analytics, and strategic planning. Currently serving as a Senior Manager at Kotak Securities, he leads analytics and strategy, employing advanced techniques such as recommendation systems, activation prediction models, and optimization engines to drive business outcomes. His technical expertise involves a solid proficiency in key tools including Python, PowerBI, MySQL, AWS, and Tableau, coupled with strong capabilities in machine learning techniques like cluster analysis, predictive modeling, and data visualization.\n",
      "\n",
      "He has demonstrated exceptional leadership skills by managing cross-functional teams, emphasizing stakeholder engagement and driving data-driven decision-making. His recent achievements include implementing collaborative filtering for stock recommendations that significantly boosted client engagement and enhancing marketing strategies through predictive analytics. Prasanjit’s experience encompasses managing a team of junior data analysts, ensuring performance targets are met while fostering professional development within his team.\n",
      "\n",
      "In prior roles, he has successfully led projects to analyze customer behavior, derive actionable insights, and implement data-driven strategies that increased digital penetration and retention rates. His educational background includes a PGP in Business Analytics and Business Intelligence and a PGDM in Banking, Insurance, and Investment, further complementing his practical knowledge and industry insights. Prasanjit's blend of technical prowess, leadership experience, and strategic mindset positions him as a strong candidate for a senior data scientist role that involves team management and innovative analytics strategies.\n"
     ]
    }
   ],
   "source": [
    "print(response.choices[0].message.content)"
   ]
  },
  {
   "cell_type": "code",
   "execution_count": null,
   "id": "41edef5a-796f-4982-a8b7-59eadee45e3c",
   "metadata": {},
   "outputs": [],
   "source": []
  }
 ],
 "metadata": {
  "kernelspec": {
   "display_name": "Python 3 (ipykernel)",
   "language": "python",
   "name": "python3"
  },
  "language_info": {
   "codemirror_mode": {
    "name": "ipython",
    "version": 3
   },
   "file_extension": ".py",
   "mimetype": "text/x-python",
   "name": "python",
   "nbconvert_exporter": "python",
   "pygments_lexer": "ipython3",
   "version": "3.11.10"
  }
 },
 "nbformat": 4,
 "nbformat_minor": 5
}
